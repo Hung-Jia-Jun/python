{
 "cells": [
  {
   "cell_type": "code",
   "execution_count": 46,
   "metadata": {},
   "outputs": [
    {
     "name": "stdout",
     "output_type": "stream",
     "text": [
      "Mango_16.jpg None\n"
     ]
    }
   ],
   "source": [
    "import cv2\n",
    "import os \n",
    "import pdb\n",
    "for ImgName in os.listdir('Train'):\n",
    "    img = cv2.imread('Train/'+ImgName,0)\n",
    "    try:\n",
    "        Result=len(img)\n",
    "    except:\n",
    "        print (ImgName,\"None\")\n",
    "        os.remove('Train/'+ImgName)\n",
    "        \n",
    "        \n",
    "        "
   ]
  },
  {
   "cell_type": "code",
   "execution_count": 30,
   "metadata": {},
   "outputs": [
    {
     "data": {
      "text/plain": [
       "['Mango_1.jpg',\n",
       " 'Mango_10.jpg',\n",
       " 'Mango_11.jpg',\n",
       " 'Mango_12.jpg',\n",
       " 'Mango_13.jpg',\n",
       " 'Mango_14.jpg',\n",
       " 'Mango_15.jpg',\n",
       " 'Mango_16.jpg',\n",
       " 'Mango_17.jpg',\n",
       " 'Mango_18.jpg',\n",
       " 'Mango_19.jpg',\n",
       " 'Mango_2.jpg',\n",
       " 'Mango_22.jpg',\n",
       " 'Mango_3.jpg',\n",
       " 'Mango_4.jpg',\n",
       " 'Mango_5.jpg',\n",
       " 'Mango_6.jpg',\n",
       " 'Mango_7.jpg',\n",
       " 'Mango_8.jpg',\n",
       " 'Mango_9.jpg']"
      ]
     },
     "execution_count": 30,
     "metadata": {},
     "output_type": "execute_result"
    }
   ],
   "source": [
    "import os\n",
    "os.listdir('Train')"
   ]
  },
  {
   "cell_type": "code",
   "execution_count": 42,
   "metadata": {},
   "outputs": [
    {
     "ename": "TypeError",
     "evalue": "object of type 'NoneType' has no len()",
     "output_type": "error",
     "traceback": [
      "\u001b[1;31m---------------------------------------------------------------------------\u001b[0m",
      "\u001b[1;31mTypeError\u001b[0m                                 Traceback (most recent call last)",
      "\u001b[1;32m<ipython-input-42-61ea970b6c41>\u001b[0m in \u001b[0;36m<module>\u001b[1;34m()\u001b[0m\n\u001b[0;32m      2\u001b[0m \u001b[1;32mimport\u001b[0m \u001b[0mos\u001b[0m\u001b[1;33m\u001b[0m\u001b[0m\n\u001b[0;32m      3\u001b[0m \u001b[0mimg\u001b[0m \u001b[1;33m=\u001b[0m \u001b[0mcv2\u001b[0m\u001b[1;33m.\u001b[0m\u001b[0mimread\u001b[0m\u001b[1;33m(\u001b[0m\u001b[1;34m'Train/Mango_16.jpg'\u001b[0m\u001b[1;33m,\u001b[0m\u001b[1;36m0\u001b[0m\u001b[1;33m)\u001b[0m\u001b[1;33m\u001b[0m\u001b[0m\n\u001b[1;32m----> 4\u001b[1;33m \u001b[0mprint\u001b[0m \u001b[1;33m(\u001b[0m\u001b[0mlen\u001b[0m\u001b[1;33m(\u001b[0m\u001b[0mimg\u001b[0m\u001b[1;33m)\u001b[0m\u001b[1;33m)\u001b[0m\u001b[1;33m\u001b[0m\u001b[0m\n\u001b[0m",
      "\u001b[1;31mTypeError\u001b[0m: object of type 'NoneType' has no len()"
     ]
    }
   ],
   "source": [
    "import cv2\n",
    "import os \n",
    "img = cv2.imread('Train/Mango_16.jpg',0)\n",
    "print (len(img))"
   ]
  },
  {
   "cell_type": "code",
   "execution_count": null,
   "metadata": {},
   "outputs": [],
   "source": []
  },
  {
   "cell_type": "code",
   "execution_count": null,
   "metadata": {},
   "outputs": [],
   "source": []
  }
 ],
 "metadata": {
  "kernelspec": {
   "display_name": "Python 3",
   "language": "python",
   "name": "python3"
  },
  "language_info": {
   "codemirror_mode": {
    "name": "ipython",
    "version": 3
   },
   "file_extension": ".py",
   "mimetype": "text/x-python",
   "name": "python",
   "nbconvert_exporter": "python",
   "pygments_lexer": "ipython3",
   "version": "3.6.4"
  }
 },
 "nbformat": 4,
 "nbformat_minor": 2
}
